{
 "cells": [
  {
   "cell_type": "markdown",
   "id": "307a1899",
   "metadata": {},
   "source": [
    "# Resposta como um stream"
   ]
  },
  {
   "cell_type": "code",
   "execution_count": 1,
   "id": "ee35535d",
   "metadata": {},
   "outputs": [],
   "source": [
    "import os\n",
    "import openai\n",
    "from dotenv import load_dotenv"
   ]
  },
  {
   "cell_type": "code",
   "execution_count": 2,
   "id": "90441228",
   "metadata": {},
   "outputs": [],
   "source": [
    "load_dotenv()  # Load environment variables from .env file\n",
    "\n",
    "# Ensure the OPENAI_API_KEY is set\n",
    "openai.api_key = os.getenv(\"OPENAI_API_KEY\")\n",
    "if openai.api_key is None:\n",
    "    raise ValueError(\"OPENAI_API_KEY environment variable not set\")"
   ]
  },
  {
   "cell_type": "code",
   "execution_count": 3,
   "id": "00c715d7",
   "metadata": {},
   "outputs": [],
   "source": [
    "#  Criando um cliente OpenAI com a chave de API key sendo carregada direto das variáveis de ambiente (arquivo \".env\")\n",
    "#  - Isso é recomendado por questões de segurança.\n",
    "client = openai.OpenAI()"
   ]
  },
  {
   "cell_type": "code",
   "execution_count": 10,
   "id": "bb65214c",
   "metadata": {},
   "outputs": [
    {
     "name": "stdout",
     "output_type": "stream",
     "text": [
      "Era uma vez um gato chamado Mimo, que morava em uma pequena cidade ao lado do mar. Sempre sonhou em explorar o mundo além de sua rua. Certo dia, encontrou uma caixa de embarque no porto e, com muita coragem, entrou nela. Para sua surpresa, a caixa foi carregada em um navio que partiu rumo a terras distantes.\n",
      "\n",
      "Durante sua jornada, Mimo viajou por praias de areias brancas, florestas verdes e cidades vibrantes"
     ]
    }
   ],
   "source": [
    "mensagens = [\n",
    "    {\n",
    "        \"role\": \"user\",\n",
    "        \"content\": \"Conte uma pequena história sobre um gato que viaja pelo mundo.\"\n",
    "    }\n",
    "]\n",
    "\n",
    "resposta = client.chat.completions.create(\n",
    "    model=\"gpt-4.1-nano\",\n",
    "    messages=mensagens,\n",
    "    max_tokens=100,\n",
    "    stream=True,\n",
    ")\n",
    "\n",
    "texto_completo = \"\"\n",
    "for chunk in resposta:\n",
    "    content = chunk.choices[0].delta.content\n",
    "    if content:\n",
    "        texto_completo += content\n",
    "        print(content, end='', flush=True)\n",
    "\n",
    "# When you set flush=True in the print() function, the output buffer is forced to clear immediately. \n",
    "# This ensures that the printed text is displayed on the screen or written to the file instantly."
   ]
  },
  {
   "cell_type": "code",
   "execution_count": null,
   "id": "2871bf44",
   "metadata": {},
   "outputs": [],
   "source": [
    "texto_completo"
   ]
  },
  {
   "cell_type": "markdown",
   "id": "d7164d00",
   "metadata": {},
   "source": [
    "## OpenAI documentation example"
   ]
  },
  {
   "cell_type": "code",
   "execution_count": 11,
   "id": "251a7ae9",
   "metadata": {},
   "outputs": [],
   "source": [
    "client2 = openai.OpenAI()"
   ]
  },
  {
   "cell_type": "code",
   "execution_count": 16,
   "id": "bfebd3f9",
   "metadata": {},
   "outputs": [
    {
     "name": "stdout",
     "output_type": "stream",
     "text": [
      "Sure! Here's 'double bubble bath' said ten times fast:\n",
      "\n",
      "double bubble bath, double bubble bath, double bubble bath, double bubble bath, double bubble bath, double bubble bath, double bubble bath, double bubble bath, double bubble bath, double bubble bath.  \n",
      "\n",
      "Would you like to try it yourself?"
     ]
    }
   ],
   "source": [
    "stream = client2.responses.create(\n",
    "    model=\"gpt-4.1-nano\",\n",
    "    input=[\n",
    "        {\n",
    "            \"role\": \"user\",\n",
    "            \"content\": \"Say 'double bubble bath' ten times fast.\"\n",
    "        }\n",
    "    ],\n",
    "    stream=True,\n",
    ")\n",
    "\n",
    "for event in stream:\n",
    "    if event.type == 'response.output_text.delta':\n",
    "        print(event.delta, end='', flush=True)"
   ]
  }
 ],
 "metadata": {
  "kernelspec": {
   "display_name": ".venv",
   "language": "python",
   "name": "python3"
  },
  "language_info": {
   "codemirror_mode": {
    "name": "ipython",
    "version": 3
   },
   "file_extension": ".py",
   "mimetype": "text/x-python",
   "name": "python",
   "nbconvert_exporter": "python",
   "pygments_lexer": "ipython3",
   "version": "3.13.3"
  }
 },
 "nbformat": 4,
 "nbformat_minor": 5
}
