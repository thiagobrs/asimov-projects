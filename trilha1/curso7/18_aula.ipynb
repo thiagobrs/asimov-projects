{
 "cells": [
  {
   "cell_type": "code",
   "execution_count": 1,
   "id": "3b314687",
   "metadata": {},
   "outputs": [],
   "source": [
    "import os\n",
    "import openai\n",
    "from dotenv import load_dotenv"
   ]
  },
  {
   "cell_type": "code",
   "execution_count": 2,
   "id": "0debae23",
   "metadata": {},
   "outputs": [],
   "source": [
    "load_dotenv()  # Load environment variables from .env file\n",
    "\n",
    "# Ensure the OPENAI_API_KEY is set\n",
    "openai.api_key = os.getenv(\"OPENAI_API_KEY\")\n",
    "if openai.api_key is None:\n",
    "    raise ValueError(\"OPENAI_API_KEY environment variable not set\")\n",
    "\n",
    "client = openai.OpenAI()"
   ]
  },
  {
   "cell_type": "markdown",
   "id": "e38a5d16",
   "metadata": {},
   "source": [
    "# Text to speech\n",
    "The Audio API provides a speech endpoint based on our GPT-4o mini TTS (text-to-speech) model."
   ]
  },
  {
   "cell_type": "code",
   "execution_count": null,
   "id": "1f226b10",
   "metadata": {},
   "outputs": [],
   "source": [
    "meus_exemplos = \"arquivos/meus_exemplos/exemplo1.mp3\"\n",
    "\n",
    "msg = \"Reality is the sum or aggregate of everything in existence; everything that is not imaginary. Different cultures and academic disciplines conceptualize it in various ways.\""
   ]
  },
  {
   "cell_type": "code",
   "execution_count": 4,
   "id": "0e34be50",
   "metadata": {},
   "outputs": [],
   "source": [
    "response = client.audio.speech.create(\n",
    "    model=\"tts-1\",\n",
    "    voice='echo',\n",
    "    input=msg\n",
    ")\n",
    "response.write_to_file(meus_exemplos)"
   ]
  },
  {
   "cell_type": "markdown",
   "id": "27d5e111",
   "metadata": {},
   "source": [
    "Example with streaming."
   ]
  },
  {
   "cell_type": "code",
   "execution_count": 6,
   "id": "b94a5784",
   "metadata": {},
   "outputs": [],
   "source": [
    "meus_exemplos = meus_exemplos = \"arquivos/meus_exemplos/exemplo2.mp3\"\n",
    "\n",
    "with client.audio.speech.with_streaming_response.create(\n",
    "    model=\"gpt-4o-mini-tts\",\n",
    "    voice=\"coral\",\n",
    "    input=\"Today is a wonderful day to build something people love!\",\n",
    "    instructions=\"Speak in a cheerful and positive tone.\",\n",
    ") as response:\n",
    "    response.stream_to_file(meus_exemplos)"
   ]
  },
  {
   "cell_type": "markdown",
   "id": "3c57cd57",
   "metadata": {},
   "source": [
    "For intelligent realtime applications, it is recommended to use the gpt-4o-mini-tts model, the newest and most reliable text-to-speech model. We can prompt the model to control aspects of speech, including:\n",
    "- Accent\n",
    "- Emotional range\n",
    "- Intonation\n",
    "- Impressions\n",
    "- Speed of speech\n",
    "- Tone\n",
    "- Whispering\n",
    "\n",
    "The other text-to-speech models are tts-1 and tts-1-hd. The tts-1 model provides lower latency, but at a lower quality than the tts-1-hd model."
   ]
  },
  {
   "cell_type": "markdown",
   "id": "5c72eb76",
   "metadata": {},
   "source": [
    "# Speech to text\n",
    "The Audio API provides two speech to text endpoints:\n",
    "- transcriptions\n",
    "- translations\n",
    "\n",
    "All endpoints can be used to:\n",
    "- Transcribe audio into whatever language the audio is in.\n",
    "- Translate and transcribe the audio into English."
   ]
  },
  {
   "cell_type": "markdown",
   "id": "7252939e",
   "metadata": {},
   "source": [
    "Historically, both endpoints have been backed by our open source Whisper model (whisper-1). The transcriptions endpoint now also supports higher quality model snapshots, with limited parameter support:\n",
    "- gpt-4o-mini-transcribe\n",
    "- gpt-4o-transcribe"
   ]
  },
  {
   "cell_type": "markdown",
   "id": "0986b7e0",
   "metadata": {},
   "source": [
    "## Transcription\n",
    "The transcriptions API takes as input the audio file you want to transcribe and the desired output file format for the transcription of the audio."
   ]
  },
  {
   "cell_type": "code",
   "execution_count": 8,
   "id": "4821012a",
   "metadata": {},
   "outputs": [
    {
     "name": "stdout",
     "output_type": "stream",
     "text": [
      "Seja muito bem-vindo ou bem-vinda ao nosso curso completo de Python aqui da Asimov Academy. Eu e minha equipe ficamos muito felizes que vocês tenham escolhido iniciar no mundo da programação, especificamente com a linguagem Python, aqui com a gente. Pode ter certeza que a gente colocou muito carinho e muita dedicação para construir esse material. Além dos conhecimentos técnicos que a gente vai apresentar sobre a linguagem e programação em si, eu também coloquei grande parte da minha experiência e minha vivência para compartilhar com vocês ao longo desse treinamento. Para quem não me conhece ainda, meu nome é Rodrigo Soares Tadeval e eu não sou programador de origem. Na verdade, eu me formei como engenheiro e eu utilizei a programação dentro da minha carreira no mercado financeiro como analista de dados. E essa é a grande mágica da programação. Vocês não precisam utilizar ela única e exclusivamente para desenvolver software. Na verdade, ela pode ser usada para o que vocês quiserem no dia a dia de vocês, muitas vezes como uma habilidade secundária. Ela é muito mais ampla e muito mais poderosa do que isso. Programação é, sem sombra de dúvidas, a habilidade do futuro. Tem gente que já compara e diz que a programação é o novo inglês. Ou seja, até anos atrás era necessário que a gente tivesse inglês para poder entrar no mercado de trabalho. Hoje, com certeza, além do inglês, a gente tem que saber programar.\n"
     ]
    }
   ],
   "source": [
    "audio1 = \"arquivos/audio/audio_asimov.mp3\"\n",
    "\n",
    "audio_file= open(audio1, \"rb\")\n",
    "\n",
    "transcription = client.audio.transcriptions.create(\n",
    "    model=\"gpt-4o-mini-transcribe\", \n",
    "    file=audio_file,\n",
    "    prompt=\"Essa é a transcrição de uma aula da Asimov Academy. O nome do professor é Rodrigo Soares Tadevald.\"\n",
    ")\n",
    "\n",
    "print(transcription.text)"
   ]
  },
  {
   "cell_type": "markdown",
   "id": "136d6c84",
   "metadata": {},
   "source": [
    "## Translation\n",
    "The translations API takes as input the audio file in any of the supported languages and transcribes, if necessary, the audio into English. This differs from our /Transcriptions endpoint since the output is not in the original input language and is instead translated to English text. This endpoint supports only the whisper-1 model."
   ]
  },
  {
   "cell_type": "code",
   "execution_count": 9,
   "id": "b38bd4e6",
   "metadata": {},
   "outputs": [
    {
     "name": "stdout",
     "output_type": "stream",
     "text": [
      "Python is a high-level programming language, interpreted as a script, imperative, oriented to objects, functional, of dynamic and strong typing. It was launched by Guido Van Rossum in 1981. It currently has a community development model, open and managed by the non-profit organization Python Software Foundation. Although several parts of the language have formal patterns and specifications, the language as a whole is not formally specified. The pattern, in practice, is the CpyPython implementation. The language was designed with the philosophy of emphasizing the importance of the programmer's effort over the computational effort. It prioritizes the legibility of the code over speed or expressiveness. It combines a concise and clear syntax with the powerful resources of its standard library and by modules and frameworks developed by third parties.\n"
     ]
    }
   ],
   "source": [
    "audio2 = \"arquivos/audio/fala.mp3\"\n",
    "audio_file = open(audio2, \"rb\")\n",
    "\n",
    "translation = client.audio.translations.create(\n",
    "    model=\"whisper-1\", \n",
    "    file=audio_file,\n",
    ")\n",
    "\n",
    "print(translation.text)"
   ]
  }
 ],
 "metadata": {
  "kernelspec": {
   "display_name": ".venv",
   "language": "python",
   "name": "python3"
  },
  "language_info": {
   "codemirror_mode": {
    "name": "ipython",
    "version": 3
   },
   "file_extension": ".py",
   "mimetype": "text/x-python",
   "name": "python",
   "nbconvert_exporter": "python",
   "pygments_lexer": "ipython3",
   "version": "3.13.3"
  }
 },
 "nbformat": 4,
 "nbformat_minor": 5
}
