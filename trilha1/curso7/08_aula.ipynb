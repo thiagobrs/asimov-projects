{
 "cells": [
  {
   "cell_type": "markdown",
   "id": "12ed1997",
   "metadata": {},
   "source": [
    "# Function calling"
   ]
  },
  {
   "cell_type": "code",
   "execution_count": null,
   "id": "44870576",
   "metadata": {},
   "outputs": [],
   "source": [
    "import openai\n",
    "import os\n",
    "import json\n",
    "import requests\n",
    "from dotenv import load_dotenv"
   ]
  },
  {
   "cell_type": "code",
   "execution_count": 2,
   "id": "03056b35",
   "metadata": {},
   "outputs": [],
   "source": [
    "load_dotenv()  # Load environment variables from .env file\n",
    "\n",
    "# Ensure the OPENAI_API_KEY is set\n",
    "openai.api_key = os.getenv(\"OPENAI_API_KEY\")\n",
    "if openai.api_key is None:\n",
    "    raise ValueError(\"OPENAI_API_KEY environment variable not set\")\n",
    "\n",
    "client = openai.OpenAI()"
   ]
  },
  {
   "cell_type": "markdown",
   "id": "68e551c0",
   "metadata": {},
   "source": [
    "## Get weather"
   ]
  },
  {
   "cell_type": "markdown",
   "id": "91e1f8ed",
   "metadata": {},
   "source": [
    "### Setting up the Open-meteo API \n",
    "https://open-meteo.com/en/docs"
   ]
  },
  {
   "cell_type": "code",
   "execution_count": null,
   "id": "c98aad05",
   "metadata": {},
   "outputs": [],
   "source": [
    "import openmeteo_requests\n",
    "import pandas as pd\n",
    "import requests_cache\n",
    "\n",
    "from retry_requests import retry"
   ]
  },
  {
   "cell_type": "code",
   "execution_count": 4,
   "id": "c124b25d",
   "metadata": {},
   "outputs": [],
   "source": [
    "# Setup the Open-Meteo API client with cache and retry on error\n",
    "cache_session = requests_cache.CachedSession('.cache', expire_after = 3600)\n",
    "retry_session = retry(cache_session, retries = 5, backoff_factor = 0.2)\n",
    "openmeteo = openmeteo_requests.Client(session = retry_session)"
   ]
  },
  {
   "cell_type": "markdown",
   "id": "e8bd3172",
   "metadata": {},
   "source": [
    "Testing..."
   ]
  },
  {
   "cell_type": "code",
   "execution_count": 9,
   "id": "374280e0",
   "metadata": {},
   "outputs": [],
   "source": [
    "# Make sure all required weather variables are listed here\n",
    "# The order of variables in hourly or daily is important to assign them correctly below\n",
    "url = \"https://api.open-meteo.com/v1/forecast\"\n",
    "params = {\n",
    "\t\"latitude\": -8.0498,\n",
    "\t\"longitude\": -34.8975,\n",
    "\t\"hourly\": \"temperature_2m\",\n",
    "\t\"timezone\": \"auto\",\n",
    "\t\"forecast_days\": 1\n",
    "}\n",
    "responses = openmeteo.weather_api(url, params=params)"
   ]
  },
  {
   "cell_type": "code",
   "execution_count": 10,
   "id": "e422be9e",
   "metadata": {},
   "outputs": [
    {
     "name": "stdout",
     "output_type": "stream",
     "text": [
      "Coordinates -8.0°N -34.875°E\n",
      "Elevation 9.0 m asl\n",
      "Timezone b'America/Recife'b'GMT-3'\n",
      "Timezone difference to GMT+0 -10800 s\n"
     ]
    }
   ],
   "source": [
    "# Process first location. Add a for-loop for multiple locations or weather models\n",
    "response = responses[0]\n",
    "print(f\"Coordinates {response.Latitude()}°N {response.Longitude()}°E\")\n",
    "print(f\"Elevation {response.Elevation()} m asl\")\n",
    "print(f\"Timezone {response.Timezone()}{response.TimezoneAbbreviation()}\")\n",
    "print(f\"Timezone difference to GMT+0 {response.UtcOffsetSeconds()} s\")"
   ]
  },
  {
   "cell_type": "code",
   "execution_count": 11,
   "id": "b0a735a8",
   "metadata": {},
   "outputs": [
    {
     "data": {
      "text/html": [
       "<div>\n",
       "<style scoped>\n",
       "    .dataframe tbody tr th:only-of-type {\n",
       "        vertical-align: middle;\n",
       "    }\n",
       "\n",
       "    .dataframe tbody tr th {\n",
       "        vertical-align: top;\n",
       "    }\n",
       "\n",
       "    .dataframe thead th {\n",
       "        text-align: right;\n",
       "    }\n",
       "</style>\n",
       "<table border=\"1\" class=\"dataframe\">\n",
       "  <thead>\n",
       "    <tr style=\"text-align: right;\">\n",
       "      <th></th>\n",
       "      <th>date</th>\n",
       "      <th>temperature_2m</th>\n",
       "    </tr>\n",
       "  </thead>\n",
       "  <tbody>\n",
       "    <tr>\n",
       "      <th>0</th>\n",
       "      <td>2025-06-06 03:00:00+00:00</td>\n",
       "      <td>23.754499</td>\n",
       "    </tr>\n",
       "    <tr>\n",
       "      <th>1</th>\n",
       "      <td>2025-06-06 04:00:00+00:00</td>\n",
       "      <td>23.604500</td>\n",
       "    </tr>\n",
       "    <tr>\n",
       "      <th>2</th>\n",
       "      <td>2025-06-06 05:00:00+00:00</td>\n",
       "      <td>23.454500</td>\n",
       "    </tr>\n",
       "    <tr>\n",
       "      <th>3</th>\n",
       "      <td>2025-06-06 06:00:00+00:00</td>\n",
       "      <td>23.104500</td>\n",
       "    </tr>\n",
       "    <tr>\n",
       "      <th>4</th>\n",
       "      <td>2025-06-06 07:00:00+00:00</td>\n",
       "      <td>22.904501</td>\n",
       "    </tr>\n",
       "    <tr>\n",
       "      <th>5</th>\n",
       "      <td>2025-06-06 08:00:00+00:00</td>\n",
       "      <td>22.804501</td>\n",
       "    </tr>\n",
       "    <tr>\n",
       "      <th>6</th>\n",
       "      <td>2025-06-06 09:00:00+00:00</td>\n",
       "      <td>22.954500</td>\n",
       "    </tr>\n",
       "    <tr>\n",
       "      <th>7</th>\n",
       "      <td>2025-06-06 10:00:00+00:00</td>\n",
       "      <td>24.154501</td>\n",
       "    </tr>\n",
       "    <tr>\n",
       "      <th>8</th>\n",
       "      <td>2025-06-06 11:00:00+00:00</td>\n",
       "      <td>25.454500</td>\n",
       "    </tr>\n",
       "    <tr>\n",
       "      <th>9</th>\n",
       "      <td>2025-06-06 12:00:00+00:00</td>\n",
       "      <td>26.754499</td>\n",
       "    </tr>\n",
       "    <tr>\n",
       "      <th>10</th>\n",
       "      <td>2025-06-06 13:00:00+00:00</td>\n",
       "      <td>27.304501</td>\n",
       "    </tr>\n",
       "    <tr>\n",
       "      <th>11</th>\n",
       "      <td>2025-06-06 14:00:00+00:00</td>\n",
       "      <td>27.454500</td>\n",
       "    </tr>\n",
       "    <tr>\n",
       "      <th>12</th>\n",
       "      <td>2025-06-06 15:00:00+00:00</td>\n",
       "      <td>27.754499</td>\n",
       "    </tr>\n",
       "    <tr>\n",
       "      <th>13</th>\n",
       "      <td>2025-06-06 16:00:00+00:00</td>\n",
       "      <td>27.504499</td>\n",
       "    </tr>\n",
       "    <tr>\n",
       "      <th>14</th>\n",
       "      <td>2025-06-06 17:00:00+00:00</td>\n",
       "      <td>27.004499</td>\n",
       "    </tr>\n",
       "    <tr>\n",
       "      <th>15</th>\n",
       "      <td>2025-06-06 18:00:00+00:00</td>\n",
       "      <td>26.454500</td>\n",
       "    </tr>\n",
       "    <tr>\n",
       "      <th>16</th>\n",
       "      <td>2025-06-06 19:00:00+00:00</td>\n",
       "      <td>26.004499</td>\n",
       "    </tr>\n",
       "    <tr>\n",
       "      <th>17</th>\n",
       "      <td>2025-06-06 20:00:00+00:00</td>\n",
       "      <td>25.404501</td>\n",
       "    </tr>\n",
       "    <tr>\n",
       "      <th>18</th>\n",
       "      <td>2025-06-06 21:00:00+00:00</td>\n",
       "      <td>24.704500</td>\n",
       "    </tr>\n",
       "    <tr>\n",
       "      <th>19</th>\n",
       "      <td>2025-06-06 22:00:00+00:00</td>\n",
       "      <td>24.354500</td>\n",
       "    </tr>\n",
       "    <tr>\n",
       "      <th>20</th>\n",
       "      <td>2025-06-06 23:00:00+00:00</td>\n",
       "      <td>24.104500</td>\n",
       "    </tr>\n",
       "    <tr>\n",
       "      <th>21</th>\n",
       "      <td>2025-06-07 00:00:00+00:00</td>\n",
       "      <td>23.954500</td>\n",
       "    </tr>\n",
       "    <tr>\n",
       "      <th>22</th>\n",
       "      <td>2025-06-07 01:00:00+00:00</td>\n",
       "      <td>23.904501</td>\n",
       "    </tr>\n",
       "    <tr>\n",
       "      <th>23</th>\n",
       "      <td>2025-06-07 02:00:00+00:00</td>\n",
       "      <td>23.754499</td>\n",
       "    </tr>\n",
       "  </tbody>\n",
       "</table>\n",
       "</div>"
      ],
      "text/plain": [
       "                        date  temperature_2m\n",
       "0  2025-06-06 03:00:00+00:00       23.754499\n",
       "1  2025-06-06 04:00:00+00:00       23.604500\n",
       "2  2025-06-06 05:00:00+00:00       23.454500\n",
       "3  2025-06-06 06:00:00+00:00       23.104500\n",
       "4  2025-06-06 07:00:00+00:00       22.904501\n",
       "5  2025-06-06 08:00:00+00:00       22.804501\n",
       "6  2025-06-06 09:00:00+00:00       22.954500\n",
       "7  2025-06-06 10:00:00+00:00       24.154501\n",
       "8  2025-06-06 11:00:00+00:00       25.454500\n",
       "9  2025-06-06 12:00:00+00:00       26.754499\n",
       "10 2025-06-06 13:00:00+00:00       27.304501\n",
       "11 2025-06-06 14:00:00+00:00       27.454500\n",
       "12 2025-06-06 15:00:00+00:00       27.754499\n",
       "13 2025-06-06 16:00:00+00:00       27.504499\n",
       "14 2025-06-06 17:00:00+00:00       27.004499\n",
       "15 2025-06-06 18:00:00+00:00       26.454500\n",
       "16 2025-06-06 19:00:00+00:00       26.004499\n",
       "17 2025-06-06 20:00:00+00:00       25.404501\n",
       "18 2025-06-06 21:00:00+00:00       24.704500\n",
       "19 2025-06-06 22:00:00+00:00       24.354500\n",
       "20 2025-06-06 23:00:00+00:00       24.104500\n",
       "21 2025-06-07 00:00:00+00:00       23.954500\n",
       "22 2025-06-07 01:00:00+00:00       23.904501\n",
       "23 2025-06-07 02:00:00+00:00       23.754499"
      ]
     },
     "execution_count": 11,
     "metadata": {},
     "output_type": "execute_result"
    }
   ],
   "source": [
    "# Process hourly data. The order of variables needs to be the same as requested.\n",
    "hourly = response.Hourly()\n",
    "hourly_temperature_2m = hourly.Variables(0).ValuesAsNumpy()\n",
    "\n",
    "hourly_data = {\"date\": pd.date_range(\n",
    "\tstart = pd.to_datetime(hourly.Time(), unit = \"s\", utc = True),\n",
    "\tend = pd.to_datetime(hourly.TimeEnd(), unit = \"s\", utc = True),\n",
    "\tfreq = pd.Timedelta(seconds = hourly.Interval()),\n",
    "\tinclusive = \"left\"\n",
    ")}\n",
    "\n",
    "hourly_data[\"temperature_2m\"] = hourly_temperature_2m\n",
    "\n",
    "hourly_dataframe = pd.DataFrame(data = hourly_data)\n",
    "hourly_dataframe"
   ]
  },
  {
   "cell_type": "markdown",
   "id": "865f9a6d",
   "metadata": {},
   "source": [
    "### Functions to call"
   ]
  },
  {
   "cell_type": "code",
   "execution_count": null,
   "id": "3c1b1a14",
   "metadata": {},
   "outputs": [],
   "source": [
    "# Function to get weather data using Open-Meteo API\n",
    "def get_weather(latitude, longitude):\n",
    "    response = requests.get(f\"https://api.open-meteo.com/v1/forecast?latitude={latitude}&longitude={longitude}&current=temperature_2m,wind_speed_10m&hourly=temperature_2m&timezone=auto\")\n",
    "    data = response.json()\n",
    "    return data['current']['temperature_2m']\n",
    "\n",
    "\n",
    "# Route each function call to the appropriate function\n",
    "available_functions = {\n",
    "    \"get_weather\": get_weather,\n",
    "    # \"other_function\": other_function,  # Uncomment and define other functions as needed\n",
    "}\n",
    "\n",
    "def call_function(name, args):\n",
    "    if name in available_functions:\n",
    "        return available_functions[name](**args)\n",
    "    else:\n",
    "        raise ValueError(f\"Function {name} is not available.\")"
   ]
  },
  {
   "cell_type": "code",
   "execution_count": null,
   "id": "2542bdac",
   "metadata": {},
   "outputs": [
    {
     "data": {
      "text/plain": [
       "[ResponseFunctionToolCall(arguments='{\"latitude\":48.8566,\"longitude\":2.3522}', call_id='call_0wIRj0NghaA7o8ZJKyKgklnx', name='get_weather', type='function_call', id='fc_68435e3edfd8819a96fbe4c7eadfcfbb019487faac95fa8e', status='completed'),\n",
       " ResponseFunctionToolCall(arguments='{\"latitude\":37.7749,\"longitude\":-122.4194}', call_id='call_1FvTI2y6P3zGWbKEVjEmc5cd', name='get_weather', type='function_call', id='fc_68435e3f08a0819aacddf3f3c723954a019487faac95fa8e', status='completed')]"
      ]
     },
     "execution_count": 33,
     "metadata": {},
     "output_type": "execute_result"
    }
   ],
   "source": [
    "# Specify the available tools for the model\n",
    "tools = [{\n",
    "    \"type\": \"function\",\n",
    "    \"name\": \"get_weather\",\n",
    "    \"description\": \"Get current temperature for provided coordinates in celsius.\",\n",
    "    \"parameters\": {\n",
    "        \"type\": \"object\",\n",
    "        \"properties\": {\n",
    "            \"latitude\": {\"type\": \"number\"},\n",
    "            \"longitude\": {\"type\": \"number\"}\n",
    "        },\n",
    "        \"required\": [\"latitude\", \"longitude\"],\n",
    "        \"additionalProperties\": False\n",
    "    },\n",
    "    \"strict\": True\n",
    "}]\n",
    "\n",
    "input_messages = [{\"role\": \"user\", \"content\": \"What's the weather like in Paris and in San Francisco today?\"}]\n",
    "\n",
    "response = client.responses.create(\n",
    "    model=\"gpt-4.1-nano\",\n",
    "    input=input_messages,\n",
    "    tools=tools,\n",
    ")\n",
    "response.output"
   ]
  },
  {
   "cell_type": "markdown",
   "id": "5f27bb51",
   "metadata": {},
   "source": [
    "When the model calls a function, you must execute it and return the result. Since model responses can include zero, one, or multiple calls, it is best practice to assume there are several."
   ]
  },
  {
   "cell_type": "code",
   "execution_count": 34,
   "id": "ddf47f06",
   "metadata": {},
   "outputs": [
    {
     "data": {
      "text/plain": [
       "[{'role': 'user',\n",
       "  'content': \"What's the weather like in Paris and in San Francisco today?\"},\n",
       " {'arguments': '{\"latitude\":48.8566,\"longitude\":2.3522}',\n",
       "  'call_id': 'call_0wIRj0NghaA7o8ZJKyKgklnx',\n",
       "  'name': 'get_weather',\n",
       "  'type': 'function_call',\n",
       "  'id': 'fc_68435e3edfd8819a96fbe4c7eadfcfbb019487faac95fa8e',\n",
       "  'status': 'completed'},\n",
       " {'type': 'function_call_output',\n",
       "  'call_id': 'call_0wIRj0NghaA7o8ZJKyKgklnx',\n",
       "  'output': '17.1'},\n",
       " {'arguments': '{\"latitude\":37.7749,\"longitude\":-122.4194}',\n",
       "  'call_id': 'call_1FvTI2y6P3zGWbKEVjEmc5cd',\n",
       "  'name': 'get_weather',\n",
       "  'type': 'function_call',\n",
       "  'id': 'fc_68435e3f08a0819aacddf3f3c723954a019487faac95fa8e',\n",
       "  'status': 'completed'},\n",
       " {'type': 'function_call_output',\n",
       "  'call_id': 'call_1FvTI2y6P3zGWbKEVjEmc5cd',\n",
       "  'output': '19.2'}]"
      ]
     },
     "execution_count": 34,
     "metadata": {},
     "output_type": "execute_result"
    }
   ],
   "source": [
    "# Iterate through the tool calls in the response\n",
    "for tool_call in response.output:\n",
    "    if tool_call.type != \"function_call\":\n",
    "        continue\n",
    "\n",
    "    # Append model's function call message\n",
    "    input_messages.append(tool_call.to_dict())\n",
    "\n",
    "    # Call the function with the provided arguments\n",
    "    name = tool_call.name\n",
    "    args = json.loads(tool_call.arguments)\n",
    "    result = call_function(name, args)\n",
    "    \n",
    "    # Append function call result message\n",
    "    input_messages.append({\n",
    "        \"type\": \"function_call_output\",\n",
    "        \"call_id\": tool_call.call_id,\n",
    "        \"output\": str(result)\n",
    "    })\n",
    "input_messages"
   ]
  },
  {
   "cell_type": "markdown",
   "id": "b50a54ca",
   "metadata": {},
   "source": [
    "Incorporating results into response."
   ]
  },
  {
   "cell_type": "code",
   "execution_count": 35,
   "id": "d6186f3c",
   "metadata": {},
   "outputs": [
    {
     "data": {
      "text/plain": [
       "'The weather in Paris today is approximately 17.1°C, and in San Francisco, it is around 19.2°C.'"
      ]
     },
     "execution_count": 35,
     "metadata": {},
     "output_type": "execute_result"
    }
   ],
   "source": [
    "response = client.responses.create(\n",
    "    model=\"gpt-4.1-nano\",\n",
    "    input=input_messages,\n",
    "    tools=tools,\n",
    ")\n",
    "response.output_text"
   ]
  }
 ],
 "metadata": {
  "kernelspec": {
   "display_name": ".venv",
   "language": "python",
   "name": "python3"
  },
  "language_info": {
   "codemirror_mode": {
    "name": "ipython",
    "version": 3
   },
   "file_extension": ".py",
   "mimetype": "text/x-python",
   "name": "python",
   "nbconvert_exporter": "python",
   "pygments_lexer": "ipython3",
   "version": "3.13.3"
  }
 },
 "nbformat": 4,
 "nbformat_minor": 5
}
