{
 "cells": [
  {
   "cell_type": "markdown",
   "id": "70272d36",
   "metadata": {},
   "source": [
    "# Conexão básica"
   ]
  },
  {
   "cell_type": "code",
   "execution_count": null,
   "id": "ee35535d",
   "metadata": {},
   "outputs": [],
   "source": [
    "import os\n",
    "import openai\n",
    "from openai import OpenAI\n",
    "from dotenv import load_dotenv"
   ]
  },
  {
   "cell_type": "code",
   "execution_count": null,
   "id": "90441228",
   "metadata": {},
   "outputs": [],
   "source": [
    "load_dotenv()  # Load environment variables from .env file\n",
    "\n",
    "# Ensure the OPENAI_API_KEY is set\n",
    "openai.api_key = os.getenv(\"OPENAI_API_KEY\")\n",
    "if openai.api_key is None:\n",
    "    raise ValueError(\"OPENAI_API_KEY environment variable not set\")"
   ]
  },
  {
   "cell_type": "code",
   "execution_count": null,
   "id": "00c715d7",
   "metadata": {},
   "outputs": [],
   "source": [
    "#  Criando um cliente OpenAI com a chave de API key sendo carregada direto das variáveis de ambiente (arquivo \".env\")\n",
    "#  - Isso é recomendado por questões de segurança.\n",
    "client = OpenAI()\n",
    "\n",
    "#  Uncomment the line below if you want to create a client instance with the API key explicitly\n",
    "#  client = OpenAI(api_key=api_key)"
   ]
  }
 ],
 "metadata": {
  "kernelspec": {
   "display_name": ".venv",
   "language": "python",
   "name": "python3"
  },
  "language_info": {
   "codemirror_mode": {
    "name": "ipython",
    "version": 3
   },
   "file_extension": ".py",
   "mimetype": "text/x-python",
   "name": "python",
   "nbconvert_exporter": "python",
   "pygments_lexer": "ipython3",
   "version": "3.13.3"
  }
 },
 "nbformat": 4,
 "nbformat_minor": 5
}
